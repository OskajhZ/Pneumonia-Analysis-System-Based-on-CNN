{
 "cells": [
  {
   "cell_type": "code",
   "execution_count": 1,
   "id": "5b5a305a-6507-44f6-b7f0-fb39b0b94f58",
   "metadata": {},
   "outputs": [
    {
     "name": "stderr",
     "output_type": "stream",
     "text": [
      "2023-12-20 17:02:13.275264: I tensorflow/core/platform/cpu_feature_guard.cc:182] This TensorFlow binary is optimized to use available CPU instructions in performance-critical operations.\n",
      "To enable the following instructions: AVX2 FMA, in other operations, rebuild TensorFlow with the appropriate compiler flags.\n",
      "2023-12-20 17:02:14.166596: W tensorflow/compiler/tf2tensorrt/utils/py_utils.cc:38] TF-TRT Warning: Could not find TensorRT\n"
     ]
    }
   ],
   "source": [
    "import tensorflow as tf\n",
    "from tensorflow.keras import Model\n",
    "import numpy as np\n",
    "import matplotlib.pyplot as plt\n",
    "import pandas as pd\n",
    "import PIL.Image as img\n",
    "import os\n",
    "from scipy.io import savemat,loadmat"
   ]
  },
  {
   "cell_type": "code",
   "execution_count": 2,
   "id": "f02d2193-e438-4669-9500-0e10162e9286",
   "metadata": {},
   "outputs": [
    {
     "name": "stderr",
     "output_type": "stream",
     "text": [
      "2023-12-20 17:07:24.378963: I tensorflow/compiler/xla/stream_executor/cuda/cuda_gpu_executor.cc:995] successful NUMA node read from SysFS had negative value (-1), but there must be at least one NUMA node, so returning NUMA node zero. See more at https://github.com/torvalds/linux/blob/v6.0/Documentation/ABI/testing/sysfs-bus-pci#L344-L355\n",
      "2023-12-20 17:07:24.384892: I tensorflow/compiler/xla/stream_executor/cuda/cuda_gpu_executor.cc:995] successful NUMA node read from SysFS had negative value (-1), but there must be at least one NUMA node, so returning NUMA node zero. See more at https://github.com/torvalds/linux/blob/v6.0/Documentation/ABI/testing/sysfs-bus-pci#L344-L355\n",
      "2023-12-20 17:07:24.385169: I tensorflow/compiler/xla/stream_executor/cuda/cuda_gpu_executor.cc:995] successful NUMA node read from SysFS had negative value (-1), but there must be at least one NUMA node, so returning NUMA node zero. See more at https://github.com/torvalds/linux/blob/v6.0/Documentation/ABI/testing/sysfs-bus-pci#L344-L355\n",
      "2023-12-20 17:07:24.386768: I tensorflow/compiler/xla/stream_executor/cuda/cuda_gpu_executor.cc:995] successful NUMA node read from SysFS had negative value (-1), but there must be at least one NUMA node, so returning NUMA node zero. See more at https://github.com/torvalds/linux/blob/v6.0/Documentation/ABI/testing/sysfs-bus-pci#L344-L355\n",
      "2023-12-20 17:07:24.387020: I tensorflow/compiler/xla/stream_executor/cuda/cuda_gpu_executor.cc:995] successful NUMA node read from SysFS had negative value (-1), but there must be at least one NUMA node, so returning NUMA node zero. See more at https://github.com/torvalds/linux/blob/v6.0/Documentation/ABI/testing/sysfs-bus-pci#L344-L355\n",
      "2023-12-20 17:07:24.387172: I tensorflow/compiler/xla/stream_executor/cuda/cuda_gpu_executor.cc:995] successful NUMA node read from SysFS had negative value (-1), but there must be at least one NUMA node, so returning NUMA node zero. See more at https://github.com/torvalds/linux/blob/v6.0/Documentation/ABI/testing/sysfs-bus-pci#L344-L355\n",
      "2023-12-20 17:07:24.958930: I tensorflow/compiler/xla/stream_executor/cuda/cuda_gpu_executor.cc:995] successful NUMA node read from SysFS had negative value (-1), but there must be at least one NUMA node, so returning NUMA node zero. See more at https://github.com/torvalds/linux/blob/v6.0/Documentation/ABI/testing/sysfs-bus-pci#L344-L355\n",
      "2023-12-20 17:07:24.959228: I tensorflow/compiler/xla/stream_executor/cuda/cuda_gpu_executor.cc:995] successful NUMA node read from SysFS had negative value (-1), but there must be at least one NUMA node, so returning NUMA node zero. See more at https://github.com/torvalds/linux/blob/v6.0/Documentation/ABI/testing/sysfs-bus-pci#L344-L355\n",
      "2023-12-20 17:07:24.959384: I tensorflow/compiler/xla/stream_executor/cuda/cuda_gpu_executor.cc:995] successful NUMA node read from SysFS had negative value (-1), but there must be at least one NUMA node, so returning NUMA node zero. See more at https://github.com/torvalds/linux/blob/v6.0/Documentation/ABI/testing/sysfs-bus-pci#L344-L355\n",
      "2023-12-20 17:07:24.959477: W tensorflow/core/common_runtime/gpu/gpu_bfc_allocator.cc:47] Overriding orig_value setting because the TF_FORCE_GPU_ALLOW_GROWTH environment variable is set. Original config value was 0.\n",
      "2023-12-20 17:07:24.959518: I tensorflow/core/common_runtime/gpu/gpu_device.cc:1639] Created device /job:localhost/replica:0/task:0/device:GPU:0 with 12712 MB memory:  -> device: 0, name: NVIDIA GeForce RTX 4090, pci bus id: 0000:10:00.0, compute capability: 8.9\n"
     ]
    },
    {
     "name": "stdout",
     "output_type": "stream",
     "text": [
      "WARNING:tensorflow:No training configuration found in save file, so the model was *not* compiled. Compile it manually.\n"
     ]
    }
   ],
   "source": [
    "model=tf.keras.models.load_model(\"/home/featurize/work/System/F1_M_88p\")"
   ]
  },
  {
   "cell_type": "code",
   "execution_count": 3,
   "id": "a13745ca-c8e2-492c-83b1-e21ffbc807fe",
   "metadata": {},
   "outputs": [],
   "source": [
    "@tf.function\n",
    "def test_step(image,label):\n",
    "    predict=model(image,training=False)\n",
    "    loss=loss_obj(label,predict)\n",
    "    \n",
    "    test_loss(loss)\n",
    "    test_accuracy(label,predict)"
   ]
  },
  {
   "cell_type": "code",
   "execution_count": 4,
   "id": "a14d010d-c363-47fc-acf0-a7ded049c74a",
   "metadata": {},
   "outputs": [],
   "source": [
    "def gettensor(folder_path,file_name):\n",
    "    im=img.open(os.path.join(folder_path,file_name)).convert('L')\n",
    "    im=im.resize((1100,1100),img.LANCZOS)\n",
    "    tens=tf.constant(im,dtype=tf.float32)\n",
    "    tens=tf.reshape(tens,(1,1100,1100,1))/tf.reduce_max(tens)\n",
    "    del im\n",
    "    return tens"
   ]
  },
  {
   "cell_type": "code",
   "execution_count": 5,
   "id": "9733c999-1de5-43dd-b574-5bf6d1a79dd2",
   "metadata": {},
   "outputs": [],
   "source": [
    "test_folder=\"/home/featurize/data/Coronahack-Chest-XRay-Dataset/Coronahack-Chest-XRay-Dataset/test\"\n",
    "test_name=pd.read_csv(\"/home/featurize/work/data/test_shuffled.csv\")[\"X_ray_image_name\"]\n",
    "test_name=np.array(test_name)"
   ]
  },
  {
   "cell_type": "code",
   "execution_count": 6,
   "id": "b935541b-f04f-4ed7-b243-6fe32f8373bc",
   "metadata": {},
   "outputs": [],
   "source": [
    "l_test_y=pd.read_csv(\"/home/featurize/work/data/test_shuffled.csv\")[\"Label\"]\n",
    "\n",
    "def numberize(l_y):\n",
    "    y=[]\n",
    "    for lab in l_y:\n",
    "        if lab==\"Normal\":\n",
    "            y.append(0)\n",
    "        else:\n",
    "            y.append(1)\n",
    "    return y\n",
    "\n",
    "test_y=tf.constant(numberize(l_test_y),dtype=tf.int32)"
   ]
  },
  {
   "cell_type": "code",
   "execution_count": 8,
   "id": "9913dbc5-16c9-4fad-a271-babfeb56cfb0",
   "metadata": {},
   "outputs": [],
   "source": [
    "loss_obj=tf.keras.losses.SparseCategoricalCrossentropy(from_logits=False)\n",
    "optimizer=tf.keras.optimizers.RMSprop(0.001,0.9)"
   ]
  },
  {
   "cell_type": "code",
   "execution_count": 9,
   "id": "4367e96a-0b40-4016-a31a-c87f4bb96c20",
   "metadata": {},
   "outputs": [],
   "source": [
    "train_loss=tf.keras.metrics.Mean(name=\"train_loss\")\n",
    "train_accuracy=tf.keras.metrics.SparseCategoricalAccuracy(name=\"train_accuracy\")\n",
    "\n",
    "test_loss=tf.keras.metrics.Mean(name=\"test_loss\")\n",
    "test_accuracy=tf.keras.metrics.SparseCategoricalAccuracy(name=\"test_accuracy\")"
   ]
  },
  {
   "cell_type": "code",
   "execution_count": 10,
   "id": "a7cc7567-ac0b-44b9-ab70-121a29a9e82c",
   "metadata": {},
   "outputs": [
    {
     "name": "stderr",
     "output_type": "stream",
     "text": [
      "/tmp/ipykernel_19074/3197959897.py:3: DeprecationWarning: LANCZOS is deprecated and will be removed in Pillow 10 (2023-07-01). Use Resampling.LANCZOS instead.\n",
      "  im=im.resize((1100,1100),img.LANCZOS)\n",
      "2023-12-20 17:13:25.855826: I tensorflow/compiler/xla/stream_executor/cuda/cuda_dnn.cc:432] Loaded cuDNN version 8600\n",
      "2023-12-20 17:13:26.636061: I tensorflow/compiler/xla/stream_executor/cuda/cuda_blas.cc:606] TensorFloat-32 will be used for the matrix multiplication. This will only be logged once.\n"
     ]
    },
    {
     "name": "stdout",
     "output_type": "stream",
     "text": [
      "Accuracy: %90.224365234375\n",
      "length:624\n"
     ]
    }
   ],
   "source": [
    "for i in range(len(test_y)):\n",
    "            image=gettensor(test_folder,test_name[i])\n",
    "            label=test_y[i]\n",
    "            test_step(image,label)\n",
    "            \n",
    "print(f\"Accuracy: %{test_accuracy.result()*100}\")\n",
    "print(f\"length:{len(test_y)}\")"
   ]
  },
  {
   "cell_type": "code",
   "execution_count": null,
   "id": "b07a943b-1da3-49ee-9e1f-f54075bfd25f",
   "metadata": {},
   "outputs": [],
   "source": []
  }
 ],
 "metadata": {
  "kernelspec": {
   "display_name": "Python 3 (ipykernel)",
   "language": "python",
   "name": "python3"
  },
  "language_info": {
   "codemirror_mode": {
    "name": "ipython",
    "version": 3
   },
   "file_extension": ".py",
   "mimetype": "text/x-python",
   "name": "python",
   "nbconvert_exporter": "python",
   "pygments_lexer": "ipython3",
   "version": "3.10.12"
  }
 },
 "nbformat": 4,
 "nbformat_minor": 5
}
